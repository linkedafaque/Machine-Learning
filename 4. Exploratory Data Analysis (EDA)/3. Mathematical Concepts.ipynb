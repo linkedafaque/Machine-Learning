{
 "cells": [
  {
   "cell_type": "markdown",
   "metadata": {},
   "source": [
    "## Mean, Variance, Standard Deviation"
   ]
  },
  {
   "cell_type": "code",
   "execution_count": 1,
   "metadata": {},
   "outputs": [],
   "source": [
    "import pandas as pd\n",
    "import seaborn as sns\n",
    "import matplotlib.pyplot as plt\n",
    "import numpy as np\n",
    "import warnings\n",
    "warnings.filterwarnings('ignore')"
   ]
  },
  {
   "cell_type": "code",
   "execution_count": 3,
   "metadata": {},
   "outputs": [],
   "source": [
    "df = pd.read_csv('iris.csv')\n",
    "df_setosa = df[df['species'] == 'setosa']\n",
    "df_virginica = df[df['species'] == 'virginica']\n",
    "df_versicolor = df[df['species'] == 'versicolor']"
   ]
  },
  {
   "cell_type": "code",
   "execution_count": 6,
   "metadata": {},
   "outputs": [
    {
     "name": "stdout",
     "output_type": "stream",
     "text": [
      "Means:\n",
      "1.464\n",
      "2.4156862745098038\n",
      "5.552\n",
      "4.26\n"
     ]
    }
   ],
   "source": [
    "print('Means:')\n",
    "print(np.mean(df_setosa['petal_length']))\n",
    "# Mean With An Outlier\n",
    "print(np.mean(np.append(df_setosa['petal_length'], 50)))\n",
    "print(np.mean(df_virginica['petal_length']))\n",
    "print(np.mean(df_versicolor['petal_length']))"
   ]
  },
  {
   "cell_type": "markdown",
   "metadata": {},
   "source": [
    "* **Mean with an outlier**: Originall each of the flowers have 50 data points. Lets say somebody entered a data point having value of petal length as 50. So now there are 51 data points and one of them has value 50.\n",
    "* We know that 1 <= petal_length <= 2, but when suddlenly one of them has value 50, this is not normal and is known as an **outlier**\n",
    "* Therefore, one point corrupted the data-set so badly that the mean now became 1.4 -> 2.4"
   ]
  },
  {
   "cell_type": "markdown",
   "metadata": {},
   "source": [
    "## Standard Deviation"
   ]
  },
  {
   "cell_type": "markdown",
   "metadata": {},
   "source": [
    "<img src='std_deviation.png' height='950px' width='700px'>"
   ]
  },
  {
   "cell_type": "markdown",
   "metadata": {},
   "source": [
    "* If standard deviation is 2 and mean is 4.5 then we can say that most points lie between 2.5 & 6.5\n",
    "* **Spread** tells us how far are my points from the mean.\n",
    "* **Std Deviation** (Spread) tells the average deviation from the mean value"
   ]
  },
  {
   "cell_type": "code",
   "execution_count": 8,
   "metadata": {},
   "outputs": [
    {
     "name": "stdout",
     "output_type": "stream",
     "text": [
      "Std Deviation:\n",
      "0.17176728442867115\n",
      "0.5463478745268441\n",
      "0.4651881339845204\n"
     ]
    }
   ],
   "source": [
    "print('Std Deviation:')\n",
    "print(np.std(df_setosa['petal_length']))\n",
    "print(np.std(df_virginica['petal_length']))\n",
    "print(np.std(df_versicolor['petal_length']))"
   ]
  },
  {
   "cell_type": "markdown",
   "metadata": {},
   "source": [
    "<img src='mean_sd_deviation.png'>"
   ]
  },
  {
   "cell_type": "code",
   "execution_count": null,
   "metadata": {},
   "outputs": [],
   "source": []
  }
 ],
 "metadata": {
  "kernelspec": {
   "display_name": "Python 3",
   "language": "python",
   "name": "python3"
  },
  "language_info": {
   "codemirror_mode": {
    "name": "ipython",
    "version": 3
   },
   "file_extension": ".py",
   "mimetype": "text/x-python",
   "name": "python",
   "nbconvert_exporter": "python",
   "pygments_lexer": "ipython3",
   "version": "3.6.5"
  }
 },
 "nbformat": 4,
 "nbformat_minor": 2
}
